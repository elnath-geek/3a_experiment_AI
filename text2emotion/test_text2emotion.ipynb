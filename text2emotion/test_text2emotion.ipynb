{
 "metadata": {
  "language_info": {
   "codemirror_mode": {
    "name": "ipython",
    "version": 3
   },
   "file_extension": ".py",
   "mimetype": "text/x-python",
   "name": "python",
   "nbconvert_exporter": "python",
   "pygments_lexer": "ipython3",
   "version": "3.6.5-final"
  },
  "orig_nbformat": 2,
  "kernelspec": {
   "name": "python3",
   "display_name": "Python 3"
  }
 },
 "nbformat": 4,
 "nbformat_minor": 2,
 "cells": [
  {
   "cell_type": "code",
   "execution_count": 1,
   "metadata": {},
   "outputs": [
    {
     "output_type": "error",
     "ename": "ImportError",
     "evalue": "DLL load failed: このオペレーティング システムでは %1 は実行されません。",
     "traceback": [
      "\u001b[1;31m---------------------------------------------------------------------------\u001b[0m",
      "\u001b[1;31mImportError\u001b[0m                               Traceback (most recent call last)",
      "\u001b[1;32m<ipython-input-1-8a156344f4f7>\u001b[0m in \u001b[0;36m<module>\u001b[1;34m()\u001b[0m\n\u001b[1;32m----> 1\u001b[1;33m \u001b[1;32mimport\u001b[0m \u001b[0mtorch\u001b[0m\u001b[1;33m\u001b[0m\u001b[0m\n\u001b[0m\u001b[0;32m      2\u001b[0m \u001b[1;32mfrom\u001b[0m \u001b[0mtransformers\u001b[0m \u001b[1;32mimport\u001b[0m \u001b[0mBertTokenizer\u001b[0m\u001b[1;33m,\u001b[0m \u001b[0mBertConfig\u001b[0m\u001b[1;33m,\u001b[0m\u001b[0mAdamW\u001b[0m\u001b[1;33m,\u001b[0m \u001b[0mBertForSequenceClassification\u001b[0m\u001b[1;33m,\u001b[0m\u001b[0mget_linear_schedule_with_warmup\u001b[0m\u001b[1;33m\u001b[0m\u001b[0m\n\u001b[0;32m      3\u001b[0m \u001b[1;33m\u001b[0m\u001b[0m\n\u001b[0;32m      4\u001b[0m \u001b[1;32mimport\u001b[0m \u001b[0mpandas\u001b[0m \u001b[1;32mas\u001b[0m \u001b[0mpd\u001b[0m\u001b[1;33m\u001b[0m\u001b[0m\n\u001b[0;32m      5\u001b[0m \u001b[1;32mimport\u001b[0m \u001b[0mnumpy\u001b[0m \u001b[1;32mas\u001b[0m \u001b[0mnp\u001b[0m\u001b[1;33m\u001b[0m\u001b[0m\n",
      "\u001b[1;32mC:\\ProgramData\\Anaconda3\\lib\\site-packages\\torch\\__init__.py\u001b[0m in \u001b[0;36m<module>\u001b[1;34m()\u001b[0m\n\u001b[0;32m     79\u001b[0m \u001b[1;32mdel\u001b[0m \u001b[0m_dl_flags\u001b[0m\u001b[1;33m\u001b[0m\u001b[0m\n\u001b[0;32m     80\u001b[0m \u001b[1;33m\u001b[0m\u001b[0m\n\u001b[1;32m---> 81\u001b[1;33m \u001b[1;32mfrom\u001b[0m \u001b[0mtorch\u001b[0m\u001b[1;33m.\u001b[0m\u001b[0m_C\u001b[0m \u001b[1;32mimport\u001b[0m \u001b[1;33m*\u001b[0m\u001b[1;33m\u001b[0m\u001b[0m\n\u001b[0m\u001b[0;32m     82\u001b[0m \u001b[1;33m\u001b[0m\u001b[0m\n\u001b[0;32m     83\u001b[0m __all__ += [name for name in dir(_C)\n",
      "\u001b[1;31mImportError\u001b[0m: DLL load failed: このオペレーティング システムでは %1 は実行されません。"
     ]
    }
   ],
   "source": [
    "import torch\n",
    "from transformers import BertTokenizer, BertConfig,AdamW, BertForSequenceClassification,get_linear_schedule_with_warmup\n",
    "\n",
    "import pandas as pd\n",
    "import numpy as np\n",
    "from sklearn.preprocessing import LabelEncoder\n",
    "\n",
    "import os\n",
    "import io\n",
    "\n",
    "def main():\n",
    "    device = torch.device(\"cpu\")\n",
    "\n",
    "    df = pd.read_csv(\"../archive/train_small.txt\", delimiter=';', header=None, names=['sentence','label'])\n",
    "    df['label'].unique()\n",
    "    labelencoder = LabelEncoder()\n",
    "    df['label_enc'] = labelencoder.fit_transform(df['label'])\n",
    "    print(df[['label','label_enc']].drop_duplicates(keep='first'))\n",
    "\n",
    "\n",
    "    sentence = [ input(\"input an english sentence : \") ]\n",
    "    print(sentence)\n",
    "\n",
    "    # Set the maximum sequence length. The longest sequence in our training set is 47, but we'll leave room on the end anyway. \n",
    "    MAX_LEN = 256\n",
    "    ## Import BERT tokenizer, that is used to convert our text into tokens that corresponds to BERT library\n",
    "    tokenizer = BertTokenizer.from_pretrained('bert-base-uncased',do_lower_case=True)\n",
    "    input_id = [tokenizer.encode(sent, add_special_tokens=True,max_length=MAX_LEN, padding=True, truncation=True) for sent in sentence]\n",
    "    t_input_id = torch.Tensor(input_id).long()\n",
    "\n",
    "    attention_mask = []\n",
    "    attention_mask = [[float(i>0) for i in seq] for seq in input_id]\n",
    "    t_attention_mask = torch.Tensor(attention_mask).long()\n",
    "\n",
    "    # Load BertForSequenceClassification, the pretrained BERT model with a single linear classification layer on top. \n",
    "    model = BertForSequenceClassification.from_pretrained(\"bert-base-uncased\", num_labels=6).to(device)\n",
    "    model.zero_grad()\n",
    "    model.eval()\n",
    "    model.load_state_dict(torch.load(\"working_8000/model/fineTuneModel.pt\"))\n",
    "\n",
    "    with torch.no_grad():\n",
    "        output = model(t_input_id, token_type_ids=None, attention_mask=t_attention_mask)\n",
    "        output = output[0].to('cpu').numpy().flatten()\n",
    "        print('anger, feay, joy, love, sadness, surprise')\n",
    "        print(output)\n",
    "            \n",
    "if __name__ == \"__main__\":\n",
    "    main()"
   ]
  },
  {
   "cell_type": "code",
   "execution_count": null,
   "metadata": {},
   "outputs": [],
   "source": []
  }
 ]
}